{
 "cells": [
  {
   "cell_type": "markdown",
   "metadata": {},
   "source": [
    "# License\n",
    "\n",
    "    Jupyter notebook for accessing CUDA\n",
    "    Copyright (C) 2018 Andre.Brodtkorb@ifi.uio.no, changed in October by Francesco Fabio Semeraro\n",
    "\n",
    "    This program is free software: you can redistribute it and/or modify\n",
    "    it under the terms of the GNU General Public License as published by\n",
    "    the Free Software Foundation, either version 3 of the License, or\n",
    "    (at your option) any later version.\n",
    "\n",
    "    This program is distributed in the hope that it will be useful,\n",
    "    but WITHOUT ANY WARRANTY; without even the implied warranty of\n",
    "    MERCHANTABILITY or FITNESS FOR A PARTICULAR PURPOSE.  See the\n",
    "    GNU General Public License for more details.\n",
    "\n",
    "    You should have received a copy of the GNU General Public License\n",
    "    along with this program.  If not, see <http://www.gnu.org/licenses/>."
   ]
  },
  {
   "cell_type": "code",
   "execution_count": 1,
   "metadata": {},
   "outputs": [],
   "source": [
    "#Lets have matplotlib \"inline\"\n",
    "%matplotlib inline\n",
    "\n",
    "#Import packages we need\n",
    "import numpy as np\n",
    "import pycuda.compiler as cuda_compiler\n",
    "from pycuda.gpuarray import GPUArray\n",
    "import pycuda.driver as cuda_driver\n",
    "\n",
    "from matplotlib import pyplot as plt"
   ]
  },
  {
   "cell_type": "code",
   "execution_count": 2,
   "metadata": {},
   "outputs": [],
   "source": [
    "#Initialize CUDA - must be first call to CUDA!\n",
    "cuda_driver.init()"
   ]
  },
  {
   "cell_type": "code",
   "execution_count": 3,
   "metadata": {},
   "outputs": [
    {
     "name": "stdout",
     "output_type": "stream",
     "text": [
      "Using 'Tesla K80'\n",
      " => compute capability: (3, 7)\n",
      " => memory: 9851 / 11441 MB available\n"
     ]
    }
   ],
   "source": [
    "#Create CUDA context\n",
    "cuda_device = cuda_driver.Device(0)\n",
    "print(\"Using '{:s}'\".format(cuda_device.name()))\n",
    "print(\" => compute capability: {:s}\".format(str(cuda_device.compute_capability())))\n",
    "context = cuda_device.make_context()\n",
    "free, total = cuda_driver.mem_get_info()\n",
    "print(\" => memory: {:d} / {:d} MB available\".format(int(free/(1024*1024)), int(total/(1024*1024))))"
   ]
  },
  {
   "cell_type": "code",
   "execution_count": 4,
   "metadata": {},
   "outputs": [],
   "source": [
    "cuda_kernel = \"\"\"\n",
    "__global__ void addVectorKernel(float* c, float* a, float* b) {\n",
    "    unsigned int i = blockIdx.x*blockDim.x + threadIdx.x;\n",
    "    c[i] = a[i] + b[i];\n",
    "}\n",
    "\n",
    "__global__ void addMatrixKernel(float* c, float* a, float* b, int cols) {\n",
    "    unsigned int i = blockIdx.x*blockDim.x + threadIdx.x;\n",
    "    unsigned int j = blockIdx.y*blockDim.y + threadIdx.y;\n",
    "    \n",
    "    //Pseudocode\n",
    "    //c[j][i] = a[j][i] + b[j][i]\n",
    "    \n",
    "    unsigned int k = j*cols + i;\n",
    "    \n",
    "    c[k] = a[k] + b[k];\n",
    "    \n",
    "\n",
    "\n",
    "}\n",
    "\n",
    "//NOTE: Implement the function matrixVectorKernel\n",
    "//c = A*b\n",
    "__global__ void matrixVectorKernel(float* c,float* A, float* b, int a_rows, int a_cols) {\n",
    "    //Write for loop that computes the vector-vector inner product\n",
    "    //of row j of A by our vector b and store the result in\n",
    "    //c[j]\n",
    "    \n",
    "    //i index is always zero!\n",
    "    //unsigned int i = blockIdx.x*blockDim.x + threadIdx.x;\n",
    "    \n",
    "    unsigned int j = blockIdx.y*blockDim.y + threadIdx.y;\n",
    "    \n",
    "    \n",
    "    //c[j] += A[j][i] * b [i];\n",
    "    \n",
    "    float sum = 0.0f; //the compiler is obliged to compute a double variable\n",
    "    \n",
    "    //float sum[32]; is very slow! don't use it\n",
    "    \n",
    "    for(int i =0; i < a_cols; ++i){\n",
    "    \n",
    "        unsigned int k = j*a_cols + i;\n",
    "        sum += A[k] * b[i];\n",
    "        \n",
    "        //c[i] += A[k] * b[i];\n",
    "    \n",
    "    }\n",
    "    \n",
    "    c[j] = sum;\n",
    "    //c[j] = j; //simple test you can do!\n",
    "    \n",
    "    //c is in the global memory, the GPU random access memory, far from where we are! The approach c[j] += A[k]*b[i] is quite slower!\n",
    "    \n",
    "    //unsigned int k = j*a_cols + i;\n",
    "    \n",
    "    //c[j] = c[j] + A[k] * b[i];\n",
    "    \n",
    "}\n",
    "\n",
    "\"\"\"\n",
    "module = cuda_compiler.SourceModule(cuda_kernel)\n",
    "kernel = module.get_function(\"matrixVectorKernel\");"
   ]
  },
  {
   "cell_type": "code",
   "execution_count": 5,
   "metadata": {},
   "outputs": [
    {
     "data": {
      "text/plain": [
       "<matplotlib.colorbar.Colorbar at 0x7f2ac9d73fd0>"
      ]
     },
     "execution_count": 5,
     "metadata": {},
     "output_type": "execute_result"
    },
    {
     "data": {
      "image/png": "[encoded data removed]",
      "text/plain": [
       "<matplotlib.figure.Figure at 0x7f2ac9ebd198>"
      ]
     },
     "metadata": {
      "needs_background": "light"
     },
     "output_type": "display_data"
    },
    {
     "data": {
      "image/png": "[encoded data removed]",
      "text/plain": [
       "<matplotlib.figure.Figure at 0x7f2ac9e62710>"
      ]
     },
     "metadata": {
      "needs_background": "light"
     },
     "output_type": "display_data"
    },
    {
     "data": {
      "image/png": "[encoded data removed]",
      "text/plain": [
       "<matplotlib.figure.Figure at 0x7f2ac9d8ec88>"
      ]
     },
     "metadata": {
      "needs_background": "light"
     },
     "output_type": "display_data"
    }
   ],
   "source": [
    "testing_variable = np.empty((12,2)).astype(np.float32)\n",
    "plt.figure()\n",
    "plt.imshow(testing_variable)\n",
    "plt.colorbar()\n",
    "\n",
    "testing_variable = np.zeros((12,2), dtype=np.float32)\n",
    "plt.figure()\n",
    "plt.imshow(testing_variable)\n",
    "plt.colorbar()\n",
    "\n",
    "testing_variable = np.ones((12,2))\n",
    "plt.figure()\n",
    "plt.imshow(testing_variable)\n",
    "plt.colorbar()"
   ]
  },
  {
   "cell_type": "code",
   "execution_count": 6,
   "metadata": {},
   "outputs": [
    {
     "name": "stderr",
     "output_type": "stream",
     "text": [
      "/usr/lib/python3/dist-packages/matplotlib/figure.py:418: UserWarning: matplotlib is currently using a non-GUI backend, so cannot show the figure\n",
      "  \"matplotlib is currently using a non-GUI backend, \"\n"
     ]
    },
    {
     "name": "stdout",
     "output_type": "stream",
     "text": [
      "[[0.2103076  0.7711836  0.14615692]\n",
      " [0.8567816  0.59867835 0.09673329]\n",
      " [0.07716006 0.432197   0.168198  ]\n",
      " [0.93282425 0.2912591  0.88865876]]\n",
      "[[0.5821192 ]\n",
      " [0.7726681 ]\n",
      " [0.05270591]]\n",
      "[[0.   ]\n",
      " [2.375]\n",
      " [0.   ]\n",
      " [2.25 ]]\n"
     ]
    },
    {
     "data": {
      "image/png": "[encoded data removed]",
      "text/plain": [
       "<matplotlib.figure.Figure at 0x7f2ac9daf9b0>"
      ]
     },
     "metadata": {
      "needs_background": "light"
     },
     "output_type": "display_data"
    }
   ],
   "source": [
    "#Size of our test\n",
    "test_size = (4, 3) #they are divisible by 32 and 8\n",
    "#n was 50, 64*128 becomes unmanageable! Make tests with something lighter\n",
    "#Matrix or cartesian data, never fall to the temptation nx = ny!, try to be general!\n",
    "\n",
    "#Create test input / output data\n",
    "a = np.random.random((4,3)).astype(np.float32)\n",
    "b = np.random.random((3,1)).astype(np.float32)\n",
    "#c = np.random.random((1,4)).astype(np.float32)\n",
    "c = np.empty((4,1), dtype=np.float32) #without using CPU to compute it\n",
    "\n",
    "fig = plt.figure(figsize = (12, 8))\n",
    "plt.subplot(1,3,1)\n",
    "plt.imshow(a)\n",
    "plt.subplot(1,3,2)\n",
    "plt.imshow(b)\n",
    "plt.subplot(1,3,3)\n",
    "plt.imshow(c)\n",
    "plt.colorbar()\n",
    "fig.show()\n",
    "\n",
    "print(a)\n",
    "print(b)\n",
    "print(c)"
   ]
  },
  {
   "cell_type": "code",
   "execution_count": 7,
   "metadata": {},
   "outputs": [
    {
     "name": "stdout",
     "output_type": "stream",
     "text": [
      "(4, 3)\n"
     ]
    }
   ],
   "source": [
    "print(a.shape)"
   ]
  },
  {
   "cell_type": "code",
   "execution_count": 8,
   "metadata": {},
   "outputs": [],
   "source": [
    "#Upload data to the device\n",
    "#NOTE: Make sure a = (a_rows, a_columns)\n",
    "#and that b = (a_columns, 1) because b is a column vector\n",
    "#and that c = (a_rows,1)\n",
    "a_g = GPUArray(a.shape, np.float32)\n",
    "b_g = GPUArray(b.shape, np.float32)\n",
    "a_g.set(a)\n",
    "b_g.set(b)\n"
   ]
  },
  {
   "cell_type": "code",
   "execution_count": 9,
   "metadata": {},
   "outputs": [],
   "source": [
    "#Allocate output data\n",
    "c_g = GPUArray(c.shape, np.float32)"
   ]
  },
  {
   "cell_type": "code",
   "execution_count": 10,
   "metadata": {},
   "outputs": [
    {
     "name": "stdout",
     "output_type": "stream",
     "text": [
      "(4, 3)\n",
      "(3, 1)\n",
      "(4, 1)\n"
     ]
    }
   ],
   "source": [
    "print(a.shape)\n",
    "print(b.shape)\n",
    "print(c.shape)"
   ]
  },
  {
   "cell_type": "code",
   "execution_count": 11,
   "metadata": {},
   "outputs": [
    {
     "name": "stdout",
     "output_type": "stream",
     "text": [
      "Domain size is (3, 4)\n",
      "Block size is (1, 1, 1)\n",
      "Grid size is (1, 4, 1)\n"
     ]
    }
   ],
   "source": [
    "#Create new variables\n",
    "#a.shape = [rows, columns] => [y, x]\n",
    "domain_size = (a.shape[1], a.shape[0]) #Now domain size is [x, y]\n",
    "\n",
    "#NOTE: We need to change this so that the grid*block is x = 1, y = number of rows in A\n",
    "block_size = (1,1,1) #These need to be [x, y, z] #one thread for every block\n",
    "grid_size = (1, c.shape[0], 1) #// integer division\n",
    "\n",
    "print(\"Domain size is \" + str(domain_size))\n",
    "print(\"Block size is \" + str(block_size))\n",
    "print(\"Grid size is \" + str(grid_size))"
   ]
  },
  {
   "cell_type": "code",
   "execution_count": 12,
   "metadata": {},
   "outputs": [
    {
     "data": {
      "text/plain": [
       "array([[0.7259964 ],\n",
       "       [0.96642715],\n",
       "       [0.38772622],\n",
       "       [0.81489915]], dtype=float32)"
      ]
     },
     "execution_count": 12,
     "metadata": {},
     "output_type": "execute_result"
    }
   ],
   "source": [
    "#Execute program on device\n",
    "kernel(c_g, a_g, b_g, np.int32(a.shape[0]), np.int32(a.shape[1]), block=block_size, grid=grid_size) #CUDA wants a 32bit integer, don't pass a float!\n",
    "\n",
    "#Copy data from device to host\n",
    "c_g.get(c)"
   ]
  },
  {
   "cell_type": "code",
   "execution_count": 14,
   "metadata": {},
   "outputs": [
    {
     "name": "stdout",
     "output_type": "stream",
     "text": [
      "C   =  [[0.7259964 ]\n",
      " [0.96642715]\n",
      " [0.38772622]\n",
      " [0.81489915]]\n",
      "Ref =  [[0.7259964 ]\n",
      " [0.96642715]\n",
      " [0.38772625]\n",
      " [0.81489915]]\n",
      "Sad =  2.9802322e-08\n"
     ]
    }
   ],
   "source": [
    "#Compute reference using Numpy\n",
    "c_ref = np.dot(a,b)\n",
    "\n",
    "#Print result\n",
    "print(\"C   = \", c)\n",
    "print(\"Ref = \", c_ref)\n",
    "print(\"Sad = \", np.sum(np.abs(c - c_ref)))"
   ]
  },
  {
   "cell_type": "code",
   "execution_count": 15,
   "metadata": {},
   "outputs": [
    {
     "data": {
      "text/plain": [
       "<matplotlib.image.AxesImage at 0x7f2ac9accda0>"
      ]
     },
     "execution_count": 15,
     "metadata": {},
     "output_type": "execute_result"
    },
    {
     "data": {
      "image/png": "[encoded data removed]",
      "text/plain": [
       "<matplotlib.figure.Figure at 0x7f2ac9c8e438>"
      ]
     },
     "metadata": {
      "needs_background": "light"
     },
     "output_type": "display_data"
    }
   ],
   "source": [
    "plt.figure(figsize=(12,8))\n",
    "#plt.plot(c, '+r')\n",
    "#plt.plot(c_ref, 'xb')\n",
    "plt.subplot(1,2,1)\n",
    "plt.imshow(c)\n",
    "plt.subplot(1,2,2)\n",
    "plt.imshow(c_ref)"
   ]
  },
  {
   "cell_type": "markdown",
   "metadata": {},
   "source": []
  }
 ],
 "metadata": {
  "kernelspec": {
   "display_name": "Python 3",
   "language": "python",
   "name": "python3"
  },
  "language_info": {
   "codemirror_mode": {
    "name": "ipython",
    "version": 3
   },
   "file_extension": ".py",
   "mimetype": "text/x-python",
   "name": "python",
   "nbconvert_exporter": "python",
   "pygments_lexer": "ipython3",
   "version": "3.6.6"
  }
 },
 "nbformat": 4,
 "nbformat_minor": 2
}
