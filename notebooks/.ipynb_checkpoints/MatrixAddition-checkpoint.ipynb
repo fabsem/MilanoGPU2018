{
 "cells": [
  {
   "cell_type": "markdown",
   "metadata": {},
   "source": [
    "# License\n",
    "\n",
    "    Jupyter notebook for accessing CUDA\n",
    "    Copyright (C) 2018 Andre.Brodtkorb@ifi.uio.no, changed in October by Francesco Fabio Semeraro\n",
    "\n",
    "    This program is free software: you can redistribute it and/or modify\n",
    "    it under the terms of the GNU General Public License as published by\n",
    "    the Free Software Foundation, either version 3 of the License, or\n",
    "    (at your option) any later version.\n",
    "\n",
    "    This program is distributed in the hope that it will be useful,\n",
    "    but WITHOUT ANY WARRANTY; without even the implied warranty of\n",
    "    MERCHANTABILITY or FITNESS FOR A PARTICULAR PURPOSE.  See the\n",
    "    GNU General Public License for more details.\n",
    "\n",
    "    You should have received a copy of the GNU General Public License\n",
    "    along with this program.  If not, see <http://www.gnu.org/licenses/>."
   ]
  },
  {
   "cell_type": "code",
   "execution_count": 1,
   "metadata": {},
   "outputs": [],
   "source": [
    "#Lets have matplotlib \"inline\"\n",
    "%matplotlib inline\n",
    "\n",
    "#Import packages we need\n",
    "import numpy as np\n",
    "import pycuda.compiler as cuda_compiler\n",
    "from pycuda.gpuarray import GPUArray\n",
    "import pycuda.driver as cuda_driver\n",
    "\n",
    "from matplotlib import pyplot as plt"
   ]
  },
  {
   "cell_type": "code",
   "execution_count": 2,
   "metadata": {},
   "outputs": [],
   "source": [
    "#Initialize CUDA - must be first call to CUDA!\n",
    "cuda_driver.init()"
   ]
  },
  {
   "cell_type": "code",
   "execution_count": 3,
   "metadata": {},
   "outputs": [
    {
     "name": "stdout",
     "output_type": "stream",
     "text": [
      "Using 'Tesla K80'\n",
      " => compute capability: (3, 7)\n",
      " => memory: 10576 / 11441 MB available\n"
     ]
    }
   ],
   "source": [
    "#Create CUDA context\n",
    "cuda_device = cuda_driver.Device(0)\n",
    "print(\"Using '{:s}'\".format(cuda_device.name()))\n",
    "print(\" => compute capability: {:s}\".format(str(cuda_device.compute_capability())))\n",
    "context = cuda_device.make_context()\n",
    "free, total = cuda_driver.mem_get_info()\n",
    "print(\" => memory: {:d} / {:d} MB available\".format(int(free/(1024*1024)), int(total/(1024*1024))))"
   ]
  },
  {
   "cell_type": "code",
   "execution_count": 8,
   "metadata": {},
   "outputs": [],
   "source": [
    "cuda_kernel = \"\"\"\n",
    "__global__ void addVectorKernel(float* c, float* a, float* b) {\n",
    "    unsigned int i = blockIdx.x*blockDim.x + threadIdx.x;\n",
    "    c[i] = a[i] + b[i];\n",
    "}\n",
    "\n",
    "__global__ void addMatrixKernel(float* c, float* a, float* b, int cols) {\n",
    "    unsigned int i = blockIdx.x*blockDim.x + threadIdx.x;\n",
    "    unsigned int j = blockIdx.y*blockDim.y + threadIdx.y;\n",
    "    \n",
    "    //Pseudocode\n",
    "    //c[j][i] = a[j][i] + b[j][i]\n",
    "    \n",
    "    unsigned int k = j*cols + i;\n",
    "    \n",
    "    c[k] = a[k] + b[k];\n",
    "    \n",
    "\n",
    "\n",
    "}\n",
    "\n",
    "\"\"\"\n",
    "module = cuda_compiler.SourceModule(cuda_kernel)\n",
    "kernel = module.get_function(\"addMatrixKernel\");"
   ]
  },
  {
   "cell_type": "code",
   "execution_count": 11,
   "metadata": {},
   "outputs": [
    {
     "data": {
      "image/png": "[encoded data removed]",
      "text/plain": [
       "<matplotlib.figure.Figure at 0x7ff4907abc50>"
      ]
     },
     "metadata": {
      "needs_background": "light"
     },
     "output_type": "display_data"
    }
   ],
   "source": [
    "#Size of our test\n",
    "test_size = (16, 24) #they are divisible by 32 and 8\n",
    "#n was 50, 64*128 becomes unmanageable! Make tests with something lighter\n",
    "#Matrix or cartesian data, never fall to the temptation nx = ny!, try to be general!\n",
    "\n",
    "#Create test input / output data\n",
    "a = np.random.random(test_size).astype(np.float32)\n",
    "b = np.random.random(test_size).astype(np.float32)\n",
    "c = np.empty_like(a)\n",
    "\n",
    "fig = plt.figure(figsize = (12, 8))\n",
    "plt.imshow(a)\n",
    "plt.colorbar()\n",
    "fig.show()"
   ]
  },
  {
   "cell_type": "code",
   "execution_count": 12,
   "metadata": {},
   "outputs": [
    {
     "name": "stdout",
     "output_type": "stream",
     "text": [
      "(16, 24)\n"
     ]
    }
   ],
   "source": [
    "print(a.shape)"
   ]
  },
  {
   "cell_type": "code",
   "execution_count": 13,
   "metadata": {},
   "outputs": [],
   "source": [
    "#Upload data to the device\n",
    "a_g = GPUArray(a.shape, np.float32)\n",
    "b_g = GPUArray(b.shape, np.float32)\n",
    "a_g.set(a)\n",
    "b_g.set(b)"
   ]
  },
  {
   "cell_type": "code",
   "execution_count": 14,
   "metadata": {},
   "outputs": [],
   "source": [
    "#Allocate output data\n",
    "c_g = GPUArray(c.shape, np.float32)"
   ]
  },
  {
   "cell_type": "code",
   "execution_count": 25,
   "metadata": {},
   "outputs": [
    {
     "name": "stdout",
     "output_type": "stream",
     "text": [
      "Domain size is (24, 16)\n",
      "Block size is (8, 4, 1)\n",
      "Grid size is (3, 4, 1)\n"
     ]
    }
   ],
   "source": [
    "#Create new variables\n",
    "#a.shape = [rows, columns] => [y, x]\n",
    "domain_size = (a.shape[1], a.shape[0]) #Now domain size is [x, y]\n",
    "block_size = (8,4,1) #These need to be [x, y, z]\n",
    "grid_size = (domain_size[0] // block_size[0], domain_size[1] // block_size[1], 1) #// integer division\n",
    "\n",
    "print(\"Domain size is \" + str(domain_size))\n",
    "print(\"Block size is \" + str(block_size))\n",
    "print(\"Grid size is \" + str(grid_size))"
   ]
  },
  {
   "cell_type": "code",
   "execution_count": 30,
   "metadata": {},
   "outputs": [
    {
     "data": {
      "text/plain": [
       "array([[0.82303643, 1.1644394 , 0.64191484, 1.3632407 , 1.3827493 ,\n",
       "        1.299424  , 0.32575148, 1.116462  , 0.93451416, 0.5720333 ,\n",
       "        0.65261245, 0.13655187, 1.4077882 , 1.5647453 , 0.457432  ,\n",
       "        1.2468772 , 1.4940317 , 0.66600436, 1.3710127 , 0.7336818 ,\n",
       "        1.3572565 , 0.5849962 , 0.8705278 , 1.1656828 ],\n",
       "       [0.43478307, 1.4200935 , 1.3790247 , 1.2801268 , 1.757007  ,\n",
       "        1.1083417 , 0.8305098 , 1.2841966 , 1.4383986 , 1.9243991 ,\n",
       "        0.7261697 , 1.0930945 , 0.18918376, 0.69906265, 1.1807601 ,\n",
       "        0.4713636 , 0.823941  , 1.5586809 , 1.1240001 , 1.3347719 ,\n",
       "        0.37909743, 1.2781377 , 0.95431834, 1.10866   ],\n",
       "       [1.4780734 , 1.4636917 , 1.5845621 , 1.4919009 , 0.36154997,\n",
       "        1.5674884 , 1.7701647 , 0.62554693, 0.35867596, 0.9609387 ,\n",
       "        1.2111782 , 1.7514596 , 1.379879  , 1.6876881 , 0.9991418 ,\n",
       "        1.5460217 , 1.8643281 , 0.9478951 , 0.82816744, 0.38785556,\n",
       "        0.6386514 , 0.14636256, 0.7746186 , 0.8919697 ],\n",
       "       [1.2530255 , 1.0707736 , 0.93129575, 1.3361328 , 1.0173181 ,\n",
       "        1.3182977 , 1.7295592 , 1.2017765 , 1.0514582 , 0.74942774,\n",
       "        1.5144746 , 1.6202359 , 0.47256908, 1.0790374 , 1.2333335 ,\n",
       "        1.3959615 , 1.0972419 , 1.0024178 , 1.0995424 , 0.2916727 ,\n",
       "        0.446432  , 0.61209035, 0.09111568, 1.1111767 ],\n",
       "       [0.61063915, 0.07310484, 1.0192865 , 1.2663777 , 1.1956723 ,\n",
       "        0.92611456, 0.63788414, 0.4206094 , 0.4984839 , 1.4257941 ,\n",
       "        1.6216866 , 0.5134118 , 0.8568038 , 1.3653216 , 1.3690834 ,\n",
       "        1.0435987 , 0.55974114, 1.3054106 , 1.5374696 , 1.6853297 ,\n",
       "        1.6411092 , 0.38103178, 1.3043185 , 0.91483796],\n",
       "       [0.5939563 , 1.4175882 , 0.861454  , 1.1306698 , 0.8688896 ,\n",
       "        1.7337246 , 1.750079  , 1.7102389 , 0.68812513, 0.11991776,\n",
       "        0.66844654, 1.4066315 , 1.1622226 , 0.8152683 , 0.94032735,\n",
       "        0.83656466, 1.3033206 , 0.8945154 , 0.2703097 , 1.2588484 ,\n",
       "        1.2379122 , 1.6658834 , 1.2226101 , 1.0527349 ],\n",
       "       [0.38470936, 0.6240512 , 0.7177471 , 1.8396999 , 0.7970636 ,\n",
       "        1.0384986 , 1.1851583 , 0.9190923 , 1.1611207 , 1.1478407 ,\n",
       "        1.2683322 , 0.9755499 , 1.2844708 , 1.4526083 , 0.989172  ,\n",
       "        0.78781587, 0.84341264, 0.8252243 , 0.9959039 , 0.89776146,\n",
       "        0.39595068, 0.6321646 , 0.8110597 , 0.61056477],\n",
       "       [1.1206691 , 1.6212134 , 0.6986214 , 0.38029504, 1.082097  ,\n",
       "        0.63672507, 0.83962935, 1.3493073 , 1.0764582 , 0.6915353 ,\n",
       "        0.79010564, 1.426377  , 1.8132948 , 0.7683332 , 0.4715819 ,\n",
       "        1.2135413 , 1.581753  , 1.3256077 , 1.1546645 , 0.8762886 ,\n",
       "        1.4777344 , 0.93711025, 1.592886  , 0.7893974 ],\n",
       "       [1.3264594 , 0.91101855, 1.6493068 , 1.7092164 , 1.3153031 ,\n",
       "        0.37985224, 0.94805205, 0.3395815 , 1.3285301 , 0.8190316 ,\n",
       "        0.3352319 , 0.53034323, 0.41609833, 1.2677686 , 0.90560985,\n",
       "        1.1566159 , 1.1927211 , 0.6561322 , 1.8296298 , 0.6511758 ,\n",
       "        1.634098  , 1.146939  , 1.6981215 , 1.5619936 ],\n",
       "       [0.8864812 , 0.8662425 , 1.2045043 , 0.92307746, 0.8564189 ,\n",
       "        1.3305792 , 0.61515135, 0.8959917 , 0.75540084, 0.22925994,\n",
       "        0.9248704 , 1.5404193 , 1.001307  , 0.6986159 , 1.5157125 ,\n",
       "        1.1473658 , 1.8380003 , 0.89774984, 1.0505404 , 1.5375042 ,\n",
       "        1.3138568 , 1.277767  , 0.6663046 , 0.9443536 ],\n",
       "       [0.5447624 , 0.88915485, 0.36067292, 1.0141516 , 1.0947187 ,\n",
       "        1.278024  , 1.197633  , 1.7696537 , 0.8268884 , 0.85364026,\n",
       "        1.3510633 , 0.89514816, 1.6282603 , 0.88565457, 1.1377661 ,\n",
       "        0.592913  , 0.40230638, 0.76508266, 1.655864  , 0.08794379,\n",
       "        0.47524482, 0.4476392 , 1.7870078 , 0.93688107],\n",
       "       [1.0337545 , 0.7052299 , 0.68241316, 1.0528514 , 0.8956112 ,\n",
       "        0.30276746, 0.7000717 , 1.5505068 , 0.36197135, 0.7676022 ,\n",
       "        1.6419935 , 0.984073  , 1.4197358 , 1.2013814 , 1.6702416 ,\n",
       "        1.494281  , 0.28900337, 0.7135673 , 0.20555648, 1.1058359 ,\n",
       "        0.83120286, 1.6170845 , 0.79634804, 0.89947975],\n",
       "       [0.9652611 , 0.91203845, 0.46570235, 0.8274407 , 0.93951446,\n",
       "        1.0002232 , 0.07525023, 1.2615505 , 0.16912758, 0.37581804,\n",
       "        1.6492491 , 0.8288564 , 1.0395225 , 1.2110451 , 0.87142336,\n",
       "        0.5739907 , 1.3268893 , 1.1781014 , 1.6273127 , 1.2219915 ,\n",
       "        1.0161412 , 1.3235657 , 1.5731695 , 0.28133607],\n",
       "       [0.82972157, 0.8982314 , 1.5285687 , 1.5618521 , 0.7165998 ,\n",
       "        1.0973547 , 0.8311095 , 1.0884687 , 1.0542694 , 1.1207831 ,\n",
       "        1.0757413 , 0.96945393, 1.1906766 , 0.9474403 , 1.331866  ,\n",
       "        0.42366728, 0.5850934 , 1.3697184 , 0.90261626, 0.6073836 ,\n",
       "        1.1176064 , 0.6832202 , 0.8055212 , 0.87514293],\n",
       "       [1.6338326 , 0.32110402, 1.1027787 , 1.2783664 , 1.1631126 ,\n",
       "        0.9394936 , 1.2423966 , 0.6461741 , 1.2374744 , 0.84432447,\n",
       "        1.7605275 , 0.76013374, 0.50907737, 1.5580299 , 1.6526887 ,\n",
       "        0.47912794, 1.1290908 , 0.83556086, 0.8682974 , 1.6444541 ,\n",
       "        0.8334655 , 0.7877673 , 1.3590381 , 1.2064508 ],\n",
       "       [1.1030467 , 0.984751  , 1.087539  , 0.6240845 , 0.38965046,\n",
       "        1.713705  , 0.7192051 , 0.5472871 , 0.30271715, 1.7555846 ,\n",
       "        0.1445133 , 1.0984939 , 1.0599098 , 0.80685884, 0.98268646,\n",
       "        0.6487469 , 0.212515  , 0.9732199 , 0.84447956, 0.0806511 ,\n",
       "        0.29364476, 1.2058423 , 1.370923  , 1.010472  ]], dtype=float32)"
      ]
     },
     "execution_count": 30,
     "metadata": {},
     "output_type": "execute_result"
    }
   ],
   "source": [
    "#Execute program on device\n",
    "kernel(c_g, a_g, b_g, np.int32(domain_size[0]), block=block_size, grid=grid_size) #CUDA wants a 32bit integer, don't pass a float!\n",
    "\n",
    "#Copy data from device to host\n",
    "c_g.get(c)"
   ]
  },
  {
   "cell_type": "code",
   "execution_count": 31,
   "metadata": {},
   "outputs": [
    {
     "name": "stdout",
     "output_type": "stream",
     "text": [
      "C   =  [[0.82303643 1.1644394  0.64191484 1.3632407  1.3827493  1.299424\n",
      "  0.32575148 1.116462   0.93451416 0.5720333  0.65261245 0.13655187\n",
      "  1.4077882  1.5647453  0.457432   1.2468772  1.4940317  0.66600436\n",
      "  1.3710127  0.7336818  1.3572565  0.5849962  0.8705278  1.1656828 ]\n",
      " [0.43478307 1.4200935  1.3790247  1.2801268  1.757007   1.1083417\n",
      "  0.8305098  1.2841966  1.4383986  1.9243991  0.7261697  1.0930945\n",
      "  0.18918376 0.69906265 1.1807601  0.4713636  0.823941   1.5586809\n",
      "  1.1240001  1.3347719  0.37909743 1.2781377  0.95431834 1.10866   ]\n",
      " [1.4780734  1.4636917  1.5845621  1.4919009  0.36154997 1.5674884\n",
      "  1.7701647  0.62554693 0.35867596 0.9609387  1.2111782  1.7514596\n",
      "  1.379879   1.6876881  0.9991418  1.5460217  1.8643281  0.9478951\n",
      "  0.82816744 0.38785556 0.6386514  0.14636256 0.7746186  0.8919697 ]\n",
      " [1.2530255  1.0707736  0.93129575 1.3361328  1.0173181  1.3182977\n",
      "  1.7295592  1.2017765  1.0514582  0.74942774 1.5144746  1.6202359\n",
      "  0.47256908 1.0790374  1.2333335  1.3959615  1.0972419  1.0024178\n",
      "  1.0995424  0.2916727  0.446432   0.61209035 0.09111568 1.1111767 ]\n",
      " [0.61063915 0.07310484 1.0192865  1.2663777  1.1956723  0.92611456\n",
      "  0.63788414 0.4206094  0.4984839  1.4257941  1.6216866  0.5134118\n",
      "  0.8568038  1.3653216  1.3690834  1.0435987  0.55974114 1.3054106\n",
      "  1.5374696  1.6853297  1.6411092  0.38103178 1.3043185  0.91483796]\n",
      " [0.5939563  1.4175882  0.861454   1.1306698  0.8688896  1.7337246\n",
      "  1.750079   1.7102389  0.68812513 0.11991776 0.66844654 1.4066315\n",
      "  1.1622226  0.8152683  0.94032735 0.83656466 1.3033206  0.8945154\n",
      "  0.2703097  1.2588484  1.2379122  1.6658834  1.2226101  1.0527349 ]\n",
      " [0.38470936 0.6240512  0.7177471  1.8396999  0.7970636  1.0384986\n",
      "  1.1851583  0.9190923  1.1611207  1.1478407  1.2683322  0.9755499\n",
      "  1.2844708  1.4526083  0.989172   0.78781587 0.84341264 0.8252243\n",
      "  0.9959039  0.89776146 0.39595068 0.6321646  0.8110597  0.61056477]\n",
      " [1.1206691  1.6212134  0.6986214  0.38029504 1.082097   0.63672507\n",
      "  0.83962935 1.3493073  1.0764582  0.6915353  0.79010564 1.426377\n",
      "  1.8132948  0.7683332  0.4715819  1.2135413  1.581753   1.3256077\n",
      "  1.1546645  0.8762886  1.4777344  0.93711025 1.592886   0.7893974 ]\n",
      " [1.3264594  0.91101855 1.6493068  1.7092164  1.3153031  0.37985224\n",
      "  0.94805205 0.3395815  1.3285301  0.8190316  0.3352319  0.53034323\n",
      "  0.41609833 1.2677686  0.90560985 1.1566159  1.1927211  0.6561322\n",
      "  1.8296298  0.6511758  1.634098   1.146939   1.6981215  1.5619936 ]\n",
      " [0.8864812  0.8662425  1.2045043  0.92307746 0.8564189  1.3305792\n",
      "  0.61515135 0.8959917  0.75540084 0.22925994 0.9248704  1.5404193\n",
      "  1.001307   0.6986159  1.5157125  1.1473658  1.8380003  0.89774984\n",
      "  1.0505404  1.5375042  1.3138568  1.277767   0.6663046  0.9443536 ]\n",
      " [0.5447624  0.88915485 0.36067292 1.0141516  1.0947187  1.278024\n",
      "  1.197633   1.7696537  0.8268884  0.85364026 1.3510633  0.89514816\n",
      "  1.6282603  0.88565457 1.1377661  0.592913   0.40230638 0.76508266\n",
      "  1.655864   0.08794379 0.47524482 0.4476392  1.7870078  0.93688107]\n",
      " [1.0337545  0.7052299  0.68241316 1.0528514  0.8956112  0.30276746\n",
      "  0.7000717  1.5505068  0.36197135 0.7676022  1.6419935  0.984073\n",
      "  1.4197358  1.2013814  1.6702416  1.494281   0.28900337 0.7135673\n",
      "  0.20555648 1.1058359  0.83120286 1.6170845  0.79634804 0.89947975]\n",
      " [0.9652611  0.91203845 0.46570235 0.8274407  0.93951446 1.0002232\n",
      "  0.07525023 1.2615505  0.16912758 0.37581804 1.6492491  0.8288564\n",
      "  1.0395225  1.2110451  0.87142336 0.5739907  1.3268893  1.1781014\n",
      "  1.6273127  1.2219915  1.0161412  1.3235657  1.5731695  0.28133607]\n",
      " [0.82972157 0.8982314  1.5285687  1.5618521  0.7165998  1.0973547\n",
      "  0.8311095  1.0884687  1.0542694  1.1207831  1.0757413  0.96945393\n",
      "  1.1906766  0.9474403  1.331866   0.42366728 0.5850934  1.3697184\n",
      "  0.90261626 0.6073836  1.1176064  0.6832202  0.8055212  0.87514293]\n",
      " [1.6338326  0.32110402 1.1027787  1.2783664  1.1631126  0.9394936\n",
      "  1.2423966  0.6461741  1.2374744  0.84432447 1.7605275  0.76013374\n",
      "  0.50907737 1.5580299  1.6526887  0.47912794 1.1290908  0.83556086\n",
      "  0.8682974  1.6444541  0.8334655  0.7877673  1.3590381  1.2064508 ]\n",
      " [1.1030467  0.984751   1.087539   0.6240845  0.38965046 1.713705\n",
      "  0.7192051  0.5472871  0.30271715 1.7555846  0.1445133  1.0984939\n",
      "  1.0599098  0.80685884 0.98268646 0.6487469  0.212515   0.9732199\n",
      "  0.84447956 0.0806511  0.29364476 1.2058423  1.370923   1.010472  ]]\n",
      "Ref =  [[0.82303643 1.1644394  0.64191484 1.3632407  1.3827493  1.299424\n",
      "  0.32575148 1.116462   0.93451416 0.5720333  0.65261245 0.13655187\n",
      "  1.4077882  1.5647453  0.457432   1.2468772  1.4940317  0.66600436\n",
      "  1.3710127  0.7336818  1.3572565  0.5849962  0.8705278  1.1656828 ]\n",
      " [0.43478307 1.4200935  1.3790247  1.2801268  1.757007   1.1083417\n",
      "  0.8305098  1.2841966  1.4383986  1.9243991  0.7261697  1.0930945\n",
      "  0.18918376 0.69906265 1.1807601  0.4713636  0.823941   1.5586809\n",
      "  1.1240001  1.3347719  0.37909743 1.2781377  0.95431834 1.10866   ]\n",
      " [1.4780734  1.4636917  1.5845621  1.4919009  0.36154997 1.5674884\n",
      "  1.7701647  0.62554693 0.35867596 0.9609387  1.2111782  1.7514596\n",
      "  1.379879   1.6876881  0.9991418  1.5460217  1.8643281  0.9478951\n",
      "  0.82816744 0.38785556 0.6386514  0.14636256 0.7746186  0.8919697 ]\n",
      " [1.2530255  1.0707736  0.93129575 1.3361328  1.0173181  1.3182977\n",
      "  1.7295592  1.2017765  1.0514582  0.74942774 1.5144746  1.6202359\n",
      "  0.47256908 1.0790374  1.2333335  1.3959615  1.0972419  1.0024178\n",
      "  1.0995424  0.2916727  0.446432   0.61209035 0.09111568 1.1111767 ]\n",
      " [0.61063915 0.07310484 1.0192865  1.2663777  1.1956723  0.92611456\n",
      "  0.63788414 0.4206094  0.4984839  1.4257941  1.6216866  0.5134118\n",
      "  0.8568038  1.3653216  1.3690834  1.0435987  0.55974114 1.3054106\n",
      "  1.5374696  1.6853297  1.6411092  0.38103178 1.3043185  0.91483796]\n",
      " [0.5939563  1.4175882  0.861454   1.1306698  0.8688896  1.7337246\n",
      "  1.750079   1.7102389  0.68812513 0.11991776 0.66844654 1.4066315\n",
      "  1.1622226  0.8152683  0.94032735 0.83656466 1.3033206  0.8945154\n",
      "  0.2703097  1.2588484  1.2379122  1.6658834  1.2226101  1.0527349 ]\n",
      " [0.38470936 0.6240512  0.7177471  1.8396999  0.7970636  1.0384986\n",
      "  1.1851583  0.9190923  1.1611207  1.1478407  1.2683322  0.9755499\n",
      "  1.2844708  1.4526083  0.989172   0.78781587 0.84341264 0.8252243\n",
      "  0.9959039  0.89776146 0.39595068 0.6321646  0.8110597  0.61056477]\n",
      " [1.1206691  1.6212134  0.6986214  0.38029504 1.082097   0.63672507\n",
      "  0.83962935 1.3493073  1.0764582  0.6915353  0.79010564 1.426377\n",
      "  1.8132948  0.7683332  0.4715819  1.2135413  1.581753   1.3256077\n",
      "  1.1546645  0.8762886  1.4777344  0.93711025 1.592886   0.7893974 ]\n",
      " [1.3264594  0.91101855 1.6493068  1.7092164  1.3153031  0.37985224\n",
      "  0.94805205 0.3395815  1.3285301  0.8190316  0.3352319  0.53034323\n",
      "  0.41609833 1.2677686  0.90560985 1.1566159  1.1927211  0.6561322\n",
      "  1.8296298  0.6511758  1.634098   1.146939   1.6981215  1.5619936 ]\n",
      " [0.8864812  0.8662425  1.2045043  0.92307746 0.8564189  1.3305792\n",
      "  0.61515135 0.8959917  0.75540084 0.22925994 0.9248704  1.5404193\n",
      "  1.001307   0.6986159  1.5157125  1.1473658  1.8380003  0.89774984\n",
      "  1.0505404  1.5375042  1.3138568  1.277767   0.6663046  0.9443536 ]\n",
      " [0.5447624  0.88915485 0.36067292 1.0141516  1.0947187  1.278024\n",
      "  1.197633   1.7696537  0.8268884  0.85364026 1.3510633  0.89514816\n",
      "  1.6282603  0.88565457 1.1377661  0.592913   0.40230638 0.76508266\n",
      "  1.655864   0.08794379 0.47524482 0.4476392  1.7870078  0.93688107]\n",
      " [1.0337545  0.7052299  0.68241316 1.0528514  0.8956112  0.30276746\n",
      "  0.7000717  1.5505068  0.36197135 0.7676022  1.6419935  0.984073\n",
      "  1.4197358  1.2013814  1.6702416  1.494281   0.28900337 0.7135673\n",
      "  0.20555648 1.1058359  0.83120286 1.6170845  0.79634804 0.89947975]\n",
      " [0.9652611  0.91203845 0.46570235 0.8274407  0.93951446 1.0002232\n",
      "  0.07525023 1.2615505  0.16912758 0.37581804 1.6492491  0.8288564\n",
      "  1.0395225  1.2110451  0.87142336 0.5739907  1.3268893  1.1781014\n",
      "  1.6273127  1.2219915  1.0161412  1.3235657  1.5731695  0.28133607]\n",
      " [0.82972157 0.8982314  1.5285687  1.5618521  0.7165998  1.0973547\n",
      "  0.8311095  1.0884687  1.0542694  1.1207831  1.0757413  0.96945393\n",
      "  1.1906766  0.9474403  1.331866   0.42366728 0.5850934  1.3697184\n",
      "  0.90261626 0.6073836  1.1176064  0.6832202  0.8055212  0.87514293]\n",
      " [1.6338326  0.32110402 1.1027787  1.2783664  1.1631126  0.9394936\n",
      "  1.2423966  0.6461741  1.2374744  0.84432447 1.7605275  0.76013374\n",
      "  0.50907737 1.5580299  1.6526887  0.47912794 1.1290908  0.83556086\n",
      "  0.8682974  1.6444541  0.8334655  0.7877673  1.3590381  1.2064508 ]\n",
      " [1.1030467  0.984751   1.087539   0.6240845  0.38965046 1.713705\n",
      "  0.7192051  0.5472871  0.30271715 1.7555846  0.1445133  1.0984939\n",
      "  1.0599098  0.80685884 0.98268646 0.6487469  0.212515   0.9732199\n",
      "  0.84447956 0.0806511  0.29364476 1.2058423  1.370923   1.010472  ]]\n",
      "Sad =  0.0\n"
     ]
    }
   ],
   "source": [
    "#Compute reference using Numpy\n",
    "c_ref = a + b\n",
    "\n",
    "#Print result\n",
    "print(\"C   = \", c)\n",
    "print(\"Ref = \", c_ref)\n",
    "print(\"Sad = \", np.sum(np.abs(c - c_ref)))"
   ]
  },
  {
   "cell_type": "code",
   "execution_count": 32,
   "metadata": {},
   "outputs": [
    {
     "data": {
      "text/plain": [
       "<matplotlib.image.AxesImage at 0x7ff49002deb8>"
      ]
     },
     "execution_count": 32,
     "metadata": {},
     "output_type": "execute_result"
    },
    {
     "data": {
      "image/png": "[encoded data removed]",
      "text/plain": [
       "<matplotlib.figure.Figure at 0x7ff4900c89e8>"
      ]
     },
     "metadata": {
      "needs_background": "light"
     },
     "output_type": "display_data"
    }
   ],
   "source": [
    "plt.figure(figsize=(12,8))\n",
    "#plt.plot(c, '+r')\n",
    "#plt.plot(c_ref, 'xb')\n",
    "plt.subplot(1,2,1)\n",
    "plt.imshow(c)\n",
    "plt.subplot(1,2,2)\n",
    "plt.imshow(c_ref)"
   ]
  },
  {
   "cell_type": "markdown",
   "metadata": {},
   "source": []
  }
 ],
 "metadata": {
  "kernelspec": {
   "display_name": "Python 3",
   "language": "python",
   "name": "python3"
  },
  "language_info": {
   "codemirror_mode": {
    "name": "ipython",
    "version": 3
   },
   "file_extension": ".py",
   "mimetype": "text/x-python",
   "name": "python",
   "nbconvert_exporter": "python",
   "pygments_lexer": "ipython3",
   "version": "3.6.6"
  }
 },
 "nbformat": 4,
 "nbformat_minor": 2
}
