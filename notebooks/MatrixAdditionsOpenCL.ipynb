{
 "cells": [
  {
   "cell_type": "markdown",
   "metadata": {},
   "source": [
    "# License\n",
    "\n",
    "    Jupyter notebook for accessing OpenCL\n",
    "    Copyright (C) 2015, 2018 Andre.Brodtkorb@ifi.uio.no\n",
    "\n",
    "    This program is free software: you can redistribute it and/or modify\n",
    "    it under the terms of the GNU General Public License as published by\n",
    "    the Free Software Foundation, either version 3 of the License, or\n",
    "    (at your option) any later version.\n",
    "\n",
    "    This program is distributed in the hope that it will be useful,\n",
    "    but WITHOUT ANY WARRANTY; without even the implied warranty of\n",
    "    MERCHANTABILITY or FITNESS FOR A PARTICULAR PURPOSE.  See the\n",
    "    GNU General Public License for more details.\n",
    "\n",
    "    You should have received a copy of the GNU General Public License\n",
    "    along with this program.  If not, see <http://www.gnu.org/licenses/>."
   ]
  },
  {
   "cell_type": "code",
   "execution_count": 1,
   "metadata": {},
   "outputs": [],
   "source": [
    "#Lets have matplotlib \"inline\"\n",
    "%matplotlib inline\n",
    "\n",
    "#Lets have opencl ipython integration enabled. Kernel handling becomes much handling wrt CUDA\n",
    "%load_ext pyopencl.ipython_ext\n",
    "\n",
    "#Import packages we need\n",
    "import os\n",
    "import numpy as np\n",
    "import pyopencl as cl\n",
    "\n",
    "from matplotlib import pyplot as plt\n",
    "\n",
    "#Make sure we get compiler output from OpenCL\n",
    "import os\n",
    "os.environ[\"PYOPENCL_COMPILER_OUTPUT\"] = \"1\""
   ]
  },
  {
   "cell_type": "code",
   "execution_count": 2,
   "metadata": {},
   "outputs": [
    {
     "name": "stdout",
     "output_type": "stream",
     "text": [
      "Using  Intel(R) Xeon(R) CPU E5-2686 v4 @ 2.30GHz\n"
     ]
    }
   ],
   "source": [
    "#Determine which GPU to use\n",
    "os.environ[\"PYOPENCL_CTX\"] = \"1\" #choose between 0 and 1\n",
    "\n",
    "#Create OpenCL context\n",
    "cl_ctx = cl.create_some_context()\n",
    "\n",
    "print(\"Using \", cl_ctx.devices[0].name)\n",
    "\n",
    "#Create an OpenCL command queue\n",
    "cl_queue = cl.CommandQueue(cl_ctx)"
   ]
  },
  {
   "cell_type": "code",
   "execution_count": 13,
   "metadata": {},
   "outputs": [
    {
     "ename": "RuntimeError",
     "evalue": "clBuildProgram failed: BUILD_PROGRAM_FAILURE - \n\nBuild on <pyopencl.Device 'Intel(R) Xeon(R) CPU E5-2686 v4 @ 2.30GHz' on 'Intel(R) OpenCL' at 0x296ca88>:\n\nCompilation started\n4:1:2: error: invalid preprocessing directive\n4:3:31: error: expected expression\nCompilation failed\n\n(options: -I /home/ubuntu/.local/lib/python3.6/site-packages/pyopencl/cl)\n(source saved as /tmp/tmp8le7zq8p.cl)",
     "output_type": "error",
     "traceback": [
      "\u001b[0;31m---------------------------------------------------------------------------\u001b[0m",
      "\u001b[0;31mRuntimeError\u001b[0m                              Traceback (most recent call last)",
      "\u001b[0;32m<ipython-input-13-1a34e07eb0a4>\u001b[0m in \u001b[0;36m<module>\u001b[0;34m\u001b[0m\n\u001b[0;32m----> 1\u001b[0;31m \u001b[0mget_ipython\u001b[0m\u001b[0;34m(\u001b[0m\u001b[0;34m)\u001b[0m\u001b[0;34m.\u001b[0m\u001b[0mrun_cell_magic\u001b[0m\u001b[0;34m(\u001b[0m\u001b[0;34m'cl_kernel'\u001b[0m\u001b[0;34m,\u001b[0m \u001b[0;34m'#interpret this cell as a kernel'\u001b[0m\u001b[0;34m,\u001b[0m \u001b[0;34m'#NOTE: We need to change this to 2D for matrix addition, add int columns, etc.\\n__kernel void addKernel(__global float *c, __global const float *a, __global const float *b) {\\n  int gid = get_global_id(0); #to get y get_global_id(1)\\n  c[gid] = a[gid] + b[gid];\\n}\\n'\u001b[0m\u001b[0;34m)\u001b[0m\u001b[0;34m\u001b[0m\u001b[0m\n\u001b[0m",
      "\u001b[0;32m~/.local/lib/python3.6/site-packages/IPython/core/interactiveshell.py\u001b[0m in \u001b[0;36mrun_cell_magic\u001b[0;34m(self, magic_name, line, cell)\u001b[0m\n\u001b[1;32m   2319\u001b[0m             \u001b[0mmagic_arg_s\u001b[0m \u001b[0;34m=\u001b[0m \u001b[0mself\u001b[0m\u001b[0;34m.\u001b[0m\u001b[0mvar_expand\u001b[0m\u001b[0;34m(\u001b[0m\u001b[0mline\u001b[0m\u001b[0;34m,\u001b[0m \u001b[0mstack_depth\u001b[0m\u001b[0;34m)\u001b[0m\u001b[0;34m\u001b[0m\u001b[0m\n\u001b[1;32m   2320\u001b[0m             \u001b[0;32mwith\u001b[0m \u001b[0mself\u001b[0m\u001b[0;34m.\u001b[0m\u001b[0mbuiltin_trap\u001b[0m\u001b[0;34m:\u001b[0m\u001b[0;34m\u001b[0m\u001b[0m\n\u001b[0;32m-> 2321\u001b[0;31m                 \u001b[0mresult\u001b[0m \u001b[0;34m=\u001b[0m \u001b[0mfn\u001b[0m\u001b[0;34m(\u001b[0m\u001b[0mmagic_arg_s\u001b[0m\u001b[0;34m,\u001b[0m \u001b[0mcell\u001b[0m\u001b[0;34m)\u001b[0m\u001b[0;34m\u001b[0m\u001b[0m\n\u001b[0m\u001b[1;32m   2322\u001b[0m             \u001b[0;32mreturn\u001b[0m \u001b[0mresult\u001b[0m\u001b[0;34m\u001b[0m\u001b[0m\n\u001b[1;32m   2323\u001b[0m \u001b[0;34m\u001b[0m\u001b[0m\n",
      "\u001b[0;32m<decorator-gen-125>\u001b[0m in \u001b[0;36mcl_kernel\u001b[0;34m(self, line, cell)\u001b[0m\n",
      "\u001b[0;32m~/.local/lib/python3.6/site-packages/IPython/core/magic.py\u001b[0m in \u001b[0;36m<lambda>\u001b[0;34m(f, *a, **k)\u001b[0m\n\u001b[1;32m    185\u001b[0m     \u001b[0;31m# but it's overkill for just that one bit of state.\u001b[0m\u001b[0;34m\u001b[0m\u001b[0;34m\u001b[0m\u001b[0m\n\u001b[1;32m    186\u001b[0m     \u001b[0;32mdef\u001b[0m \u001b[0mmagic_deco\u001b[0m\u001b[0;34m(\u001b[0m\u001b[0marg\u001b[0m\u001b[0;34m)\u001b[0m\u001b[0;34m:\u001b[0m\u001b[0;34m\u001b[0m\u001b[0m\n\u001b[0;32m--> 187\u001b[0;31m         \u001b[0mcall\u001b[0m \u001b[0;34m=\u001b[0m \u001b[0;32mlambda\u001b[0m \u001b[0mf\u001b[0m\u001b[0;34m,\u001b[0m \u001b[0;34m*\u001b[0m\u001b[0ma\u001b[0m\u001b[0;34m,\u001b[0m \u001b[0;34m**\u001b[0m\u001b[0mk\u001b[0m\u001b[0;34m:\u001b[0m \u001b[0mf\u001b[0m\u001b[0;34m(\u001b[0m\u001b[0;34m*\u001b[0m\u001b[0ma\u001b[0m\u001b[0;34m,\u001b[0m \u001b[0;34m**\u001b[0m\u001b[0mk\u001b[0m\u001b[0;34m)\u001b[0m\u001b[0;34m\u001b[0m\u001b[0m\n\u001b[0m\u001b[1;32m    188\u001b[0m \u001b[0;34m\u001b[0m\u001b[0m\n\u001b[1;32m    189\u001b[0m         \u001b[0;32mif\u001b[0m \u001b[0mcallable\u001b[0m\u001b[0;34m(\u001b[0m\u001b[0marg\u001b[0m\u001b[0;34m)\u001b[0m\u001b[0;34m:\u001b[0m\u001b[0;34m\u001b[0m\u001b[0m\n",
      "\u001b[0;32m~/.local/lib/python3.6/site-packages/pyopencl/ipython_ext.py\u001b[0m in \u001b[0;36mcl_kernel\u001b[0;34m(self, line, cell)\u001b[0m\n\u001b[1;32m     52\u001b[0m         \u001b[0mbuild_options\u001b[0m \u001b[0;34m=\u001b[0m \u001b[0mopts\u001b[0m\u001b[0;34m.\u001b[0m\u001b[0mget\u001b[0m\u001b[0;34m(\u001b[0m\u001b[0;34m'o'\u001b[0m\u001b[0;34m,\u001b[0m \u001b[0;34m''\u001b[0m\u001b[0;34m)\u001b[0m\u001b[0;34m\u001b[0m\u001b[0m\n\u001b[1;32m     53\u001b[0m \u001b[0;34m\u001b[0m\u001b[0m\n\u001b[0;32m---> 54\u001b[0;31m         \u001b[0mself\u001b[0m\u001b[0;34m.\u001b[0m\u001b[0m_run_kernel\u001b[0m\u001b[0;34m(\u001b[0m\u001b[0mkernel\u001b[0m\u001b[0;34m,\u001b[0m \u001b[0mbuild_options\u001b[0m\u001b[0;34m)\u001b[0m\u001b[0;34m\u001b[0m\u001b[0m\n\u001b[0m\u001b[1;32m     55\u001b[0m \u001b[0;34m\u001b[0m\u001b[0m\n\u001b[1;32m     56\u001b[0m     \u001b[0;32mdef\u001b[0m \u001b[0m_load_kernel_and_options\u001b[0m\u001b[0;34m(\u001b[0m\u001b[0mself\u001b[0m\u001b[0;34m,\u001b[0m \u001b[0mline\u001b[0m\u001b[0;34m)\u001b[0m\u001b[0;34m:\u001b[0m\u001b[0;34m\u001b[0m\u001b[0m\n",
      "\u001b[0;32m~/.local/lib/python3.6/site-packages/pyopencl/ipython_ext.py\u001b[0m in \u001b[0;36m_run_kernel\u001b[0;34m(self, kernel, options)\u001b[0m\n\u001b[1;32m     40\u001b[0m                     \"present in namespace as 'cl_ctx' or 'ctx'\")\n\u001b[1;32m     41\u001b[0m \u001b[0;34m\u001b[0m\u001b[0m\n\u001b[0;32m---> 42\u001b[0;31m         \u001b[0mprg\u001b[0m \u001b[0;34m=\u001b[0m \u001b[0mcl\u001b[0m\u001b[0;34m.\u001b[0m\u001b[0mProgram\u001b[0m\u001b[0;34m(\u001b[0m\u001b[0mctx\u001b[0m\u001b[0;34m,\u001b[0m \u001b[0mkernel\u001b[0m\u001b[0;34m)\u001b[0m\u001b[0;34m.\u001b[0m\u001b[0mbuild\u001b[0m\u001b[0;34m(\u001b[0m\u001b[0moptions\u001b[0m\u001b[0;34m=\u001b[0m\u001b[0moptions\u001b[0m\u001b[0;34m.\u001b[0m\u001b[0msplit\u001b[0m\u001b[0;34m(\u001b[0m\u001b[0;34m)\u001b[0m\u001b[0;34m)\u001b[0m\u001b[0;34m\u001b[0m\u001b[0m\n\u001b[0m\u001b[1;32m     43\u001b[0m \u001b[0;34m\u001b[0m\u001b[0m\n\u001b[1;32m     44\u001b[0m         \u001b[0;32mfor\u001b[0m \u001b[0mknl\u001b[0m \u001b[0;32min\u001b[0m \u001b[0mprg\u001b[0m\u001b[0;34m.\u001b[0m\u001b[0mall_kernels\u001b[0m\u001b[0;34m(\u001b[0m\u001b[0;34m)\u001b[0m\u001b[0;34m:\u001b[0m\u001b[0;34m\u001b[0m\u001b[0m\n",
      "\u001b[0;32m~/.local/lib/python3.6/site-packages/pyopencl/__init__.py\u001b[0m in \u001b[0;36mbuild\u001b[0;34m(self, options, devices, cache_dir)\u001b[0m\n\u001b[1;32m    460\u001b[0m                         \u001b[0mself\u001b[0m\u001b[0;34m.\u001b[0m\u001b[0m_context\u001b[0m\u001b[0;34m,\u001b[0m \u001b[0mself\u001b[0m\u001b[0;34m.\u001b[0m\u001b[0m_source\u001b[0m\u001b[0;34m,\u001b[0m \u001b[0moptions_bytes\u001b[0m\u001b[0;34m,\u001b[0m \u001b[0mdevices\u001b[0m\u001b[0;34m,\u001b[0m\u001b[0;34m\u001b[0m\u001b[0m\n\u001b[1;32m    461\u001b[0m                         cache_dir=cache_dir, include_path=include_path),\n\u001b[0;32m--> 462\u001b[0;31m                     options_bytes=options_bytes, source=self._source)\n\u001b[0m\u001b[1;32m    463\u001b[0m \u001b[0;34m\u001b[0m\u001b[0m\n\u001b[1;32m    464\u001b[0m             \u001b[0;32mif\u001b[0m \u001b[0mwas_cached\u001b[0m\u001b[0;34m:\u001b[0m\u001b[0;34m\u001b[0m\u001b[0m\n",
      "\u001b[0;32m~/.local/lib/python3.6/site-packages/pyopencl/__init__.py\u001b[0m in \u001b[0;36m_build_and_catch_errors\u001b[0;34m(self, build_func, options_bytes, source)\u001b[0m\n\u001b[1;32m    504\u001b[0m         \u001b[0;31m# Python 3.2 outputs the whole list of currently active exceptions\u001b[0m\u001b[0;34m\u001b[0m\u001b[0;34m\u001b[0m\u001b[0m\n\u001b[1;32m    505\u001b[0m         \u001b[0;31m# This serves to remove one (redundant) level from that nesting.\u001b[0m\u001b[0;34m\u001b[0m\u001b[0;34m\u001b[0m\u001b[0m\n\u001b[0;32m--> 506\u001b[0;31m         \u001b[0;32mraise\u001b[0m \u001b[0merr\u001b[0m\u001b[0;34m\u001b[0m\u001b[0m\n\u001b[0m\u001b[1;32m    507\u001b[0m \u001b[0;34m\u001b[0m\u001b[0m\n\u001b[1;32m    508\u001b[0m     \u001b[0;31m# }}}\u001b[0m\u001b[0;34m\u001b[0m\u001b[0;34m\u001b[0m\u001b[0m\n",
      "\u001b[0;31mRuntimeError\u001b[0m: clBuildProgram failed: BUILD_PROGRAM_FAILURE - \n\nBuild on <pyopencl.Device 'Intel(R) Xeon(R) CPU E5-2686 v4 @ 2.30GHz' on 'Intel(R) OpenCL' at 0x296ca88>:\n\nCompilation started\n4:1:2: error: invalid preprocessing directive\n4:3:31: error: expected expression\nCompilation failed\n\n(options: -I /home/ubuntu/.local/lib/python3.6/site-packages/pyopencl/cl)\n(source saved as /tmp/tmp8le7zq8p.cl)"
     ]
    }
   ],
   "source": [
    "%%cl_kernel #interpret this cell as a kernel\n",
    "#NOTE: We need to change this to 2D for matrix addition, add int columns, etc.\n",
    "__kernel void addKernel(__global float *c, __global const float *a, __global const float *b) {\n",
    "  int gid = get_global_id(0); #to get y get_global_id(1)\n",
    "  c[gid] = a[gid] + b[gid];\n",
    "}"
   ]
  },
  {
   "cell_type": "code",
   "execution_count": 12,
   "metadata": {},
   "outputs": [
    {
     "data": {
      "text/plain": [
       "<pyopencl.cffi_cl.NannyEvent at 0x7fa177454908>"
      ]
     },
     "execution_count": 12,
     "metadata": {},
     "output_type": "execute_result"
    }
   ],
   "source": [
    "#Size of our test\n",
    "n = 50\n",
    "\n",
    "#Create test input / output data\n",
    "#NOTE: For matrix addition, need to use np.random.random((size)) for 2D\n",
    "a = np.random.rand(n).astype(np.float32)\n",
    "b = np.random.rand(n).astype(np.float32)\n",
    "c = np.empty_like(a)\n",
    "\n",
    "#Upload data to the device\n",
    "mf = cl.mem_flags\n",
    "a_g = cl.Buffer(cl_ctx, mf.READ_ONLY | mf.COPY_HOST_PTR, hostbuf=a) #creating a buffer on a specific OpenCL context, read and copy\n",
    "b_g = cl.Buffer(cl_ctx, mf.READ_ONLY | mf.COPY_HOST_PTR, hostbuf=b)\n",
    "\n",
    "#Allocate output data\n",
    "c_g = cl.Buffer(cl_ctx, mf.WRITE_ONLY, a.nbytes) #I'm allocating a buffer with the right number of bytes, not sure the right numbers\n",
    "\n",
    "#Execute program on device\n",
    "addKernel(cl_queue, a.shape, None, c_g, a_g, b_g) #it gives more fb \n",
    "\n",
    "#Copy data from device to host\n",
    "cl.enqueue_copy(cl_queue, c, c_g)"
   ]
  },
  {
   "cell_type": "code",
   "execution_count": 7,
   "metadata": {},
   "outputs": [
    {
     "name": "stdout",
     "output_type": "stream",
     "text": [
      "C   =  [0.5801546  1.1222761  1.2343354  1.3374612  0.95820713 1.1097605\n",
      " 1.0650253  0.96835643 1.5753095  0.44479513 0.2288655  0.98952454\n",
      " 1.1321391  0.7763935  1.2036573  1.4232254  0.9147514  0.88875794\n",
      " 1.6246061  1.9412034  0.15311103 0.8945807  1.6481212  1.1241659\n",
      " 1.1305346  0.5903511  1.7352057  0.21792601 0.7830717  1.2991123\n",
      " 1.2358032  0.35599577 1.2541562  0.68264467 1.2949324  0.8346535\n",
      " 1.3979934  0.48632827 0.43494052 1.5336816  0.76086813 1.3967695\n",
      " 0.965935   1.6829311  1.1262631  1.2476333  0.6653741  0.7412045\n",
      " 1.2805232  0.59943867]\n",
      "Ref =  [0.5801546  1.1222761  1.2343354  1.3374612  0.95820713 1.1097605\n",
      " 1.0650253  0.96835643 1.5753095  0.44479513 0.2288655  0.98952454\n",
      " 1.1321391  0.7763935  1.2036573  1.4232254  0.9147514  0.88875794\n",
      " 1.6246061  1.9412034  0.15311103 0.8945807  1.6481212  1.1241659\n",
      " 1.1305346  0.5903511  1.7352057  0.21792601 0.7830717  1.2991123\n",
      " 1.2358032  0.35599577 1.2541562  0.68264467 1.2949324  0.8346535\n",
      " 1.3979934  0.48632827 0.43494052 1.5336816  0.76086813 1.3967695\n",
      " 0.965935   1.6829311  1.1262631  1.2476333  0.6653741  0.7412045\n",
      " 1.2805232  0.59943867]\n",
      "Sad =  0.0\n"
     ]
    }
   ],
   "source": [
    "#Compute reference using Numpy\n",
    "c_ref = a + b\n",
    "\n",
    "#Print result\n",
    "print(\"C   = \", c)\n",
    "print(\"Ref = \", c_ref)\n",
    "print(\"Sad = \", np.sum(np.abs(c - c_ref)))"
   ]
  },
  {
   "cell_type": "code",
   "execution_count": 8,
   "metadata": {},
   "outputs": [
    {
     "data": {
      "text/plain": [
       "[<matplotlib.lines.Line2D at 0x7fa177454160>]"
      ]
     },
     "execution_count": 8,
     "metadata": {},
     "output_type": "execute_result"
    },
    {
     "data": {
      "image/png": "[encoded data removed]",
      "text/plain": [
       "<matplotlib.figure.Figure at 0x7fa177449828>"
      ]
     },
     "metadata": {
      "needs_background": "light"
     },
     "output_type": "display_data"
    }
   ],
   "source": [
    "plt.figure()\n",
    "plt.plot(c, '+r')\n",
    "plt.plot(c_ref, 'xb')"
   ]
  },
  {
   "cell_type": "code",
   "execution_count": null,
   "metadata": {
    "collapsed": true
   },
   "outputs": [],
   "source": []
  }
 ],
 "metadata": {
  "kernelspec": {
   "display_name": "Python 3",
   "language": "python",
   "name": "python3"
  },
  "language_info": {
   "codemirror_mode": {
    "name": "ipython",
    "version": 3
   },
   "file_extension": ".py",
   "mimetype": "text/x-python",
   "name": "python",
   "nbconvert_exporter": "python",
   "pygments_lexer": "ipython3",
   "version": "3.6.6"
  }
 },
 "nbformat": 4,
 "nbformat_minor": 2
}
