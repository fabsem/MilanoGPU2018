{
 "cells": [
  {
   "cell_type": "code",
   "execution_count": 6,
   "metadata": {},
   "outputs": [],
   "source": [
    "%matplotlib inline\n",
    "\n",
    "from matplotlib import pyplot as plt\n",
    "\n",
    "import numpy as np\n",
    "import pycuda\n",
    "import pycuda.compiler as cuda_compiler\n",
    "import pycuda.driver as cuda_driver\n",
    "\n",
    "from Timer import Timer\n",
    "import IPythonMagic\n",
    "\n",
    "import pytest\n",
    "from ipytest import clean_tests, run_pytest"
   ]
  },
  {
   "cell_type": "code",
   "execution_count": 7,
   "metadata": {},
   "outputs": [
    {
     "name": "stderr",
     "output_type": "stream",
     "text": [
      "Global logger already initialized!\n",
      "Registering context in user workspace\n",
      "Context already registered! Ignoring\n"
     ]
    }
   ],
   "source": [
    "#These were from the IPythonMagic module\n",
    "%setup_logging\n",
    "%cuda_context_handler context"
   ]
  },
  {
   "cell_type": "code",
   "execution_count": 22,
   "metadata": {},
   "outputs": [],
   "source": [
    "#At first solve the problem with the CPU\n",
    "class HeatEquation1D(object):\n",
    "    \"\"\"\n",
    "    This class approximates the solution of the heat equation\n",
    "    using an explicit finite difference scheme\n",
    "    \"\"\"\n",
    "    #now build the constructor\n",
    "    def __init__(self, u0, kappa, dx, dt):\n",
    "        #now assign these variables to the self\n",
    "        self.u0 = u0.copy()\n",
    "        self.u1 = np.empty_like(self.u0)\n",
    "        self.kappa = kappa\n",
    "        self.dx = dx\n",
    "        self.dt = dt\n",
    "        #these are a float apart from u0, numpy array. we have now 2 pointers pointing at the same memory, so let's do a copy\n",
    "        \n",
    "        #nx is u0.shape minus two because of boundaries\n",
    "        self.nx = self.u0.shape[0] - 2\n",
    "        \n",
    "    def step(self):\n",
    "        for i in range(1, self.nx + 1):\n",
    "            self.u1[i] = self.u0[i] \\\n",
    "                + self.kappa*self.dt/self.dx**2 \\\n",
    "                * (self.u0[i-1] - 2.0*self.u0[i] + self.u0[i+1])\n",
    "            \n",
    "        self.u1[0] = self.u1[1]\n",
    "        self.u1[self.nx+1] = self.u1[self.nx]\n",
    "            \n",
    "    def download(self):\n",
    "        #called download because we'll move to GPU\n",
    "        return self.u1.copy()\n",
    "            "
   ]
  },
  {
   "cell_type": "code",
   "execution_count": 24,
   "metadata": {},
   "outputs": [
    {
     "name": "stdout",
     "output_type": "stream",
     "text": [
      "[0.  0.  0.2 0.6 0.2 0.  0. ]\n"
     ]
    }
   ],
   "source": [
    "u0 = np.zeros(7)\n",
    "u0[3] = 1.0\n",
    "kappa = 1.0\n",
    "dx = 1.0\n",
    "dt = 0.4*dx**2.0/(2.0*kappa)\n",
    "\n",
    "simulator = HeatEquation1D(u0, kappa, dx, dt)\n",
    "simulator.step()\n",
    "result = simulator.download()\n",
    "print(result)"
   ]
  },
  {
   "cell_type": "code",
   "execution_count": 11,
   "metadata": {},
   "outputs": [
    {
     "name": "stdout",
     "output_type": "stream",
     "text": [
      "============================= test session starts ==============================\n",
      "platform linux -- Python 3.6.6, pytest-3.8.2, py-1.6.0, pluggy-0.7.1 -- /usr/bin/python3\n",
      "cachedir: .pytest_cache\n",
      "rootdir: /home/ubuntu/jupyter_notebooks/Fabio/MilanoGPU2018/notebooks, inifile:\n",
      "collecting ... collected 1 item\n",
      "\n",
      "HeatEquation1DFabio.py::test_HeatEquation1D <- <ipython-input-11-c15c67504d3e> PASSED [100%]\n",
      "\n",
      "=========================== 1 passed in 0.02 seconds ===========================\n"
     ]
    },
    {
     "data": {
      "text/plain": [
       "0"
      ]
     },
     "execution_count": 11,
     "metadata": {},
     "output_type": "execute_result"
    }
   ],
   "source": [
    "clean_tests()\n",
    "\n",
    "def test_HeatEquation1D():\n",
    "    u0 = np.zeros(15)\n",
    "    kappa = 1.0\n",
    "    dx = 1.0\n",
    "    dt = 0.4*dx**2.0/(2.0*kappa)\n",
    "\n",
    "    simulator = HeatEquation1D(u0, kappa, dx, dt)\n",
    "\n",
    "    assert np.all(u0 == simulator.u0)\n",
    "    assert simulator.u0.shape == simulator.u1.shape\n",
    "    assert kappa == simulator.kappa\n",
    "    assert dx == simulator.dx\n",
    "    assert dt == simulator.dt\n",
    "    \n",
    "run_pytest(filename='HeatEquation1DFabio.ipynb', pytest_options=['-vvv'])"
   ]
  },
  {
   "cell_type": "code",
   "execution_count": null,
   "metadata": {},
   "outputs": [],
   "source": []
  }
 ],
 "metadata": {
  "kernelspec": {
   "display_name": "Python 3",
   "language": "python",
   "name": "python3"
  },
  "language_info": {
   "codemirror_mode": {
    "name": "ipython",
    "version": 3
   },
   "file_extension": ".py",
   "mimetype": "text/x-python",
   "name": "python",
   "nbconvert_exporter": "python",
   "pygments_lexer": "ipython3",
   "version": "3.6.6"
  }
 },
 "nbformat": 4,
 "nbformat_minor": 2
}
